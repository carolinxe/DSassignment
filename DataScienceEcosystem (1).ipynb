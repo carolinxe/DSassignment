{
 "cells": [
  {
   "cell_type": "markdown",
   "id": "8730d120-3a85-4977-a523-1d829b9cebaf",
   "metadata": {},
   "source": [
    "# Data Science Tools and Ecosystem"
   ]
  },
  {
   "cell_type": "markdown",
   "id": "2e9883ad-e546-4510-abfb-0582549c6896",
   "metadata": {},
   "source": [
    "In this notebook, Data Science Tools and Ecosystem are summarized."
   ]
  },
  {
   "cell_type": "markdown",
   "id": "bf1398e9-33e7-4826-abaf-261677930479",
   "metadata": {},
   "source": [
    "**Objectives**"
   ]
  },
  {
   "cell_type": "markdown",
   "id": "fe50a148-9e58-43ec-bf8d-f71eb3f8887a",
   "metadata": {},
   "source": [
    "- Popular languages in Data Science\n",
    "- Libraries used by Data Scientists\n",
    "- Data Science Tools"
   ]
  },
  {
   "cell_type": "markdown",
   "id": "d9c51af2-5ade-4730-9795-be49da38bd6e",
   "metadata": {},
   "source": [
    "Some of the popular languages that Data Scientists use are:"
   ]
  },
  {
   "cell_type": "markdown",
   "id": "decda5b5-ccd8-4df0-b817-4a21d282dd45",
   "metadata": {},
   "source": [
    "- Python\n",
    "- SQL\n",
    "- R\n",
    "- Julia\n",
    "- JavaScript\n",
    "- Scala\n",
    "- Java\n",
    "- Go"
   ]
  },
  {
   "cell_type": "markdown",
   "id": "e06f59b9-8b2d-48a9-a433-765fac84cd9a",
   "metadata": {},
   "source": [
    "Some of the commonly used libraries used by Data Scientists include:"
   ]
  },
  {
   "cell_type": "markdown",
   "id": "36516aff-246d-4aa3-8030-f4e09c5218fd",
   "metadata": {},
   "source": [
    "1. NumPy\n",
    "2. Pandas. ...\n",
    "3. Machine learning"
   ]
  },
  {
   "cell_type": "markdown",
   "id": "31d502ba-1b9c-41af-b113-35f6564071ec",
   "metadata": {},
   "source": [
    "| Data Science Tools |\n",
    "| ------- |\n",
    "| Panda |\n",
    "| Hadoop |\n",
    "| MLFlow |"
   ]
  },
  {
   "cell_type": "markdown",
   "id": "45d0da27-e1be-4510-b03d-4014aaf049f7",
   "metadata": {},
   "source": [
    "### Below are a few examples of evaluating arithmetic expressions in Python"
   ]
  },
  {
   "cell_type": "code",
   "execution_count": 1,
   "id": "e03288c1-403b-44db-a156-f10980f841cc",
   "metadata": {},
   "outputs": [
    {
     "data": {
      "text/plain": [
       "17"
      ]
     },
     "execution_count": 1,
     "metadata": {},
     "output_type": "execute_result"
    }
   ],
   "source": [
    "(3*4)+5"
   ]
  },
  {
   "cell_type": "markdown",
   "id": "70a4f31d-e182-420f-b853-4ba22d45541a",
   "metadata": {},
   "source": [
    "This will convert 200 minutes to hours by diving by 60"
   ]
  },
  {
   "cell_type": "code",
   "execution_count": 2,
   "id": "5254a5b4-8797-4025-a1d1-75e347340c0a",
   "metadata": {},
   "outputs": [
    {
     "data": {
      "text/plain": [
       "3.3333333333333335"
      ]
     },
     "execution_count": 2,
     "metadata": {},
     "output_type": "execute_result"
    }
   ],
   "source": [
    "200/60"
   ]
  },
  {
   "cell_type": "markdown",
   "id": "fe343d8b-b033-4b22-9507-8c9d865a5441",
   "metadata": {},
   "source": [
    "## Author"
   ]
  },
  {
   "cell_type": "markdown",
   "id": "38f11368-34cc-4c99-a16f-2f6f785c1d1f",
   "metadata": {},
   "source": [
    "Carolina Sánchez"
   ]
  },
  {
   "cell_type": "code",
   "execution_count": null,
   "id": "f1d577d4-a20f-47d9-be67-d40deeff01b4",
   "metadata": {},
   "outputs": [],
   "source": []
  }
 ],
 "metadata": {
  "kernelspec": {
   "display_name": "anaconda-panel-2023.05-py310",
   "language": "python",
   "name": "conda-env-anaconda-panel-2023.05-py310-py"
  },
  "language_info": {
   "codemirror_mode": {
    "name": "ipython",
    "version": 3
   },
   "file_extension": ".py",
   "mimetype": "text/x-python",
   "name": "python",
   "nbconvert_exporter": "python",
   "pygments_lexer": "ipython3",
   "version": "3.11.5"
  }
 },
 "nbformat": 4,
 "nbformat_minor": 5
}
